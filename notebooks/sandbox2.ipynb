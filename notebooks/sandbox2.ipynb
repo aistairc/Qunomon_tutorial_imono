{
 "cells": [
  {
   "cell_type": "markdown",
   "metadata": {},
   "source": [
    "# state_dictのローディングとテストデータでの推論結果評価"
   ]
  },
  {
   "cell_type": "code",
   "execution_count": 1,
   "metadata": {},
   "outputs": [],
   "source": [
    "from torchvision.models import mobilenet_v3_large, MobileNet_V3_Large_Weights\n",
    "from torch.nn import Linear\n",
    "from torchsummary import summary\n",
    "import torch\n",
    "from torchvision.datasets import ImageFolder\n",
    "from torchvision.transforms import v2\n",
    "import numpy as np\n",
    "import h5py\n",
    "import matplotlib.pyplot as plt"
   ]
  },
  {
   "cell_type": "code",
   "execution_count": 2,
   "metadata": {},
   "outputs": [],
   "source": [
    "model = mobilenet_v3_large(weights=MobileNet_V3_Large_Weights.IMAGENET1K_V1)\n",
    "\n",
    "for name, param in model.named_parameters():  \n",
    "    if \"classifier\" in name:\n",
    "        continue\n",
    "    param.requires_grad = False\n",
    "model.classifier[-1] = Linear(1280, 2, bias=True)\n",
    "\n",
    "# summary(model, (3, 128, 128))"
   ]
  },
  {
   "cell_type": "code",
   "execution_count": 3,
   "metadata": {},
   "outputs": [
    {
     "data": {
      "text/plain": [
       "<All keys matched successfully>"
      ]
     },
     "execution_count": 3,
     "metadata": {},
     "output_type": "execute_result"
    }
   ],
   "source": [
    "model.load_state_dict(torch.load(\"../resources/best_model_exp2_143.pth\", map_location=torch.device('cpu')))"
   ]
  },
  {
   "cell_type": "code",
   "execution_count": 4,
   "metadata": {},
   "outputs": [],
   "source": [
    "# model_torchscript = torch.jit.script(model)\n",
    "# torch.jit.save(model_torchscript, \"../resources/model_torchscript.pth\")"
   ]
  },
  {
   "cell_type": "code",
   "execution_count": 5,
   "metadata": {},
   "outputs": [
    {
     "name": "stderr",
     "output_type": "stream",
     "text": [
      "c:\\Users\\nwatt0\\repos\\imono-tutorial\\.venv\\lib\\site-packages\\torchvision\\transforms\\v2\\_deprecated.py:43: UserWarning: The transform `ToTensor()` is deprecated and will be removed in a future release. Instead, please use `v2.Compose([v2.ToImage(), v2.ToDtype(torch.float32, scale=True)])`.\n",
      "  warnings.warn(\n"
     ]
    }
   ],
   "source": [
    "# ImageNetで訓練済の重みを使用する際は、訓練時に下記の正規化処理が入っているため、再現\n",
    "# また入力サイズは224*224に固定する。\n",
    "normalize = v2.Normalize(mean=[0.485, 0.456, 0.406],\n",
    "                        std=[0.229, 0.224, 0.225])\n",
    "test_transform = v2.Compose([v2.Resize(224, antialias=None), v2.CenterCrop(224), v2.ToTensor(),  normalize])\n",
    "\n",
    "# 訓練データと、過学習モデルの採用を防ぐためのvalデータを用意しておきます。\n",
    "test_dataset = ImageFolder(\"../resources/SDNET2018splitted/test\", transform=test_transform)\n",
    "test_dataloader = torch.utils.data.DataLoader(test_dataset, batch_size=32, shuffle=False)"
   ]
  },
  {
   "cell_type": "code",
   "execution_count": 6,
   "metadata": {},
   "outputs": [
    {
     "name": "stdout",
     "output_type": "stream",
     "text": [
      "0.8388878987702727\n",
      "0.8792258790813318\n",
      "0.6979596064498038\n"
     ]
    }
   ],
   "source": [
    "from sklearn.metrics import classification_report\n",
    "from sklearn import metrics\n",
    "\n",
    "model.eval()\n",
    "\n",
    "preds = []\n",
    "targets = []\n",
    "\n",
    "for i, (data, target) in enumerate(test_dataloader):\n",
    "    data, target = data.to(\"cpu\"), target.to(\"cpu\")\n",
    "\n",
    "    pred = model(data)\n",
    "    preds.extend([int(l.argmax()) for l in pred])\n",
    "    targets.extend([int(t) for t in target])\n",
    "    \n",
    "print(metrics.accuracy_score(preds, targets))\n",
    "print(metrics.average_precision_score(preds, targets))\n",
    "print(metrics.balanced_accuracy_score(preds, targets))"
   ]
  },
  {
   "cell_type": "code",
   "execution_count": 7,
   "metadata": {},
   "outputs": [
    {
     "name": "stdout",
     "output_type": "stream",
     "text": [
      "175\n",
      "2800\n",
      "0.8003571428571429\n",
      "0.8709962755095322\n",
      "0.769424807592169\n"
     ]
    }
   ],
   "source": [
    "hfpreds = []\n",
    "hftargets = []\n",
    "\n",
    "with h5py.File(\"../resources/test_preprocessed.h5\") as hf:\n",
    "    hfdata = hf[\"data\"]\n",
    "    hflabel = hf[\"label\"]\n",
    "    \n",
    "    batched_len = len(hf[\"data\"])//32\n",
    "    print(batched_len)\n",
    "    for batchix in range(batched_len):\n",
    "        data, target = hfdata[batchix*16:(batchix+1)*16], hflabel[batchix*16:(batchix+1)*16]\n",
    "        data, target = torch.from_numpy(data), torch.from_numpy(target)\n",
    "    \n",
    "        pred = model(data)\n",
    "        hfpreds.extend([int(l.argmax()) for l in pred])\n",
    "        hftargets.extend([int(t) for t in target])\n",
    "\n",
    "print(len(hfpreds))\n",
    "\n",
    "print(metrics.accuracy_score(hfpreds, hftargets))\n",
    "print(metrics.average_precision_score(hfpreds, hftargets))\n",
    "print(metrics.balanced_accuracy_score(hfpreds, hftargets))"
   ]
  },
  {
   "cell_type": "code",
   "execution_count": 8,
   "metadata": {},
   "outputs": [
    {
     "data": {
      "text/plain": [
       "<Axes: >"
      ]
     },
     "execution_count": 8,
     "metadata": {},
     "output_type": "execute_result"
    },
    {
     "data": {
      "image/png": "[encoded data removed]",
      "text/plain": [
       "<Figure size 640x480 with 2 Axes>"
      ]
     },
     "metadata": {},
     "output_type": "display_data"
    }
   ],
   "source": [
    "import seaborn as sns\n",
    "\n",
    "cm = metrics.confusion_matrix(hftargets, hfpreds)\n",
    "sns.heatmap(cm, annot=True, cmap='Blues')"
   ]
  }
 ],
 "metadata": {
  "kernelspec": {
   "display_name": ".venv",
   "language": "python",
   "name": "python3"
  },
  "language_info": {
   "codemirror_mode": {
    "name": "ipython",
    "version": 3
   },
   "file_extension": ".py",
   "mimetype": "text/x-python",
   "name": "python",
   "nbconvert_exporter": "python",
   "pygments_lexer": "ipython3",
   "version": "3.10.12"
  }
 },
 "nbformat": 4,
 "nbformat_minor": 2
}
